{
 "cells": [
  {
   "cell_type": "markdown",
   "id": "0af5f104",
   "metadata": {},
   "source": [
    "# Performance tests"
   ]
  },
  {
   "cell_type": "markdown",
   "id": "4fad19b2",
   "metadata": {},
   "source": [
    "I am using the `]PERFORMANCE.RunTime` functionality to calculate the execution time of the membership function on various examples\n",
    "\n",
    "```\n",
    "───────────────────────────────────────────────────────────────────────────────                    \n",
    "                                                                                                   \n",
    "]PERFORMANCE.RunTime                                                                               \n",
    "                                                                                                   \n",
    "Report execution time of one or more expressions                                                   \n",
    "    ]RunTime [<expression> [<expression> ... [-compare]]] [-details[=all|non|ai]] [-repeat=<limit>]\n",
    "                                                                                                   \n",
    "Argument is a series of expressions to run                                                         \n",
    "                                                                                                   \n",
    "-compare  compare the expressions using the first one as base line.                                \n",
    "-details[=all|non|ai]  specify which details to include. It can be one of the following:           \n",
    "    all   (default) ⎕AI and ⎕MONITOR CPU and elapsed numbers with test function results            \n",
    "    none  only numeric results in millisecs as a matrix of Nx2                                     \n",
    "    ai    numeric results of ⎕MONITOR and ⎕AI as a matrix of Nx4                                   \n",
    "                                                                                                   \n",
    "-repeat=<limit>  repeats each expression until <limit> is reached. Valid limits are:               \n",
    "    <i>      repeat each expression <i> times                                                      \n",
    "    <t>s     repeat until at least <t> seconds have passed                                         \n",
    "    <t>m     repeat until at least <t> milliseconds have passed                                    \n",
    "    <i>⌈<t>  repeat until both limits have been reached                                            \n",
    "    <i>⌊<t>  repeat until at least one limit has been reached                                      \n",
    "                                                                                                   \n",
    "]RunTime -??? ⍝ for examples    \n",
    "```\n",
    "\n",
    "Later I also use `cmpx` to get an insight on the same"
   ]
  },
  {
   "cell_type": "markdown",
   "id": "bd7d9dc0",
   "metadata": {},
   "source": [
    "Starting with something basic, but it is too small to take some time."
   ]
  },
  {
   "cell_type": "code",
   "execution_count": 1,
   "id": "31d7e77e",
   "metadata": {
    "vscode": {
     "languageId": "apl"
    }
   },
   "outputs": [
    {
     "data": {
      "text/html": [
       "<pre class=\"language-APL\">\n",
       "* Benchmarking \"x∊y\"\n",
       "┌──────────┬────┐\n",
       "│          │(ms)│\n",
       "├──────────┼────┤\n",
       "│CPU (avg):│0   │\n",
       "├──────────┼────┤\n",
       "│Elapsed:  │0   │\n",
       "└──────────┴────┘\n",
       "</pre>"
      ]
     },
     "execution_count": 1,
     "metadata": {},
     "output_type": "execute_result"
    }
   ],
   "source": [
    "x←5\n",
    "y←1 2 3 4 5 6\n",
    "]PERFORMANCE.RunTime x∊y"
   ]
  },
  {
   "cell_type": "markdown",
   "id": "79507dc6",
   "metadata": {
    "vscode": {
     "languageId": "apl"
    }
   },
   "source": [
    " I am generating a random number and testing on the max possible size without a `WS full` error"
   ]
  },
  {
   "cell_type": "code",
   "execution_count": 2,
   "id": "78467a8c",
   "metadata": {
    "vscode": {
     "languageId": "apl"
    }
   },
   "outputs": [
    {
     "data": {
      "text/html": [
       "<pre class=\"language-APL\">Number to find: 6564\n",
       "</pre>"
      ]
     },
     "execution_count": 2,
     "metadata": {},
     "output_type": "execute_result"
    },
    {
     "data": {
      "text/html": [
       "<pre class=\"language-APL\">\n",
       "* Benchmarking \"x∊100000000⍴⍳x\", repeat=100\n",
       "Test run took 68 68 msecs\n",
       "┌──────────┬─────┬─────┬────────┐\n",
       "│          │⎕AI  │(ms) │[2]→line│\n",
       "├──────────┼─────┼─────┼────────┤\n",
       "│CPU (avg):│17.7 │17.7 │0       │\n",
       "├──────────┼─────┼─────┼────────┤\n",
       "│Elapsed:  │17.75│17.75│0       │\n",
       "└──────────┴─────┴─────┴────────┘\n",
       "Effective repeat=100, # expression on repeat line was 100\n",
       "┌──────────────┬───────────────┐\n",
       "│⎕MONITOR data:│2 1 1770 1775 0│\n",
       "│              │3 1    0    0 0│\n",
       "└──────────────┴───────────────┘\n",
       "</pre>"
      ]
     },
     "execution_count": 2,
     "metadata": {},
     "output_type": "execute_result"
    }
   ],
   "source": [
    "x←?10000\n",
    "⎕←'Number to find:',x\n",
    "]PERFORMANCE.RunTime x∊100000000⍴⍳x -details=all -repeat=100"
   ]
  },
  {
   "cell_type": "code",
   "execution_count": 3,
   "id": "c3eb4bd0",
   "metadata": {
    "vscode": {
     "languageId": "apl"
    }
   },
   "outputs": [
    {
     "data": {
      "text/html": [
       "<pre class=\"language-APL\">Number to find: 2787\n",
       "</pre>"
      ]
     },
     "execution_count": 3,
     "metadata": {},
     "output_type": "execute_result"
    },
    {
     "data": {
      "text/html": [
       "<pre class=\"language-APL\">\n",
       "* Benchmarking \"x∊100000000⍴⍳x\", repeat=100\n",
       "Test run took 68 68 msecs\n",
       "┌──────────┬─────┬─────┬────────┐\n",
       "│          │⎕AI  │(ms) │[2]→line│\n",
       "├──────────┼─────┼─────┼────────┤\n",
       "│CPU (avg):│18.74│18.74│0       │\n",
       "├──────────┼─────┼─────┼────────┤\n",
       "│Elapsed:  │18.8 │18.79│0.01    │\n",
       "└──────────┴─────┴─────┴────────┘\n",
       "Effective repeat=100, # expression on repeat line was 100\n",
       "┌──────────────┬───────────────┐\n",
       "│⎕MONITOR data:│2 1 1874 1879 0│\n",
       "│              │3 1    0    1 0│\n",
       "└──────────────┴───────────────┘\n",
       "</pre>"
      ]
     },
     "execution_count": 3,
     "metadata": {},
     "output_type": "execute_result"
    }
   ],
   "source": [
    "x←?10000\n",
    "⎕←'Number to find:',x\n",
    "]PERFORMANCE.RunTime x∊100000000⍴⍳x -details=all -repeat=100"
   ]
  },
  {
   "cell_type": "code",
   "execution_count": 4,
   "id": "43d9d984",
   "metadata": {
    "vscode": {
     "languageId": "apl"
    }
   },
   "outputs": [
    {
     "data": {
      "text/html": [
       "<pre class=\"language-APL\">Number to find: 1018\n",
       "</pre>"
      ]
     },
     "execution_count": 4,
     "metadata": {},
     "output_type": "execute_result"
    },
    {
     "data": {
      "text/html": [
       "<pre class=\"language-APL\">\n",
       "* Benchmarking \"x∊100000000⍴⍳x\", repeat=100\n",
       "Test run took 68 68 msecs\n",
       "┌──────────┬─────┬─────┬────────┐\n",
       "│          │⎕AI  │(ms) │[2]→line│\n",
       "├──────────┼─────┼─────┼────────┤\n",
       "│CPU (avg):│18.81│18.81│0       │\n",
       "├──────────┼─────┼─────┼────────┤\n",
       "│Elapsed:  │18.85│18.85│0       │\n",
       "└──────────┴─────┴─────┴────────┘\n",
       "Effective repeat=100, # expression on repeat line was 100\n",
       "┌──────────────┬───────────────┐\n",
       "│⎕MONITOR data:│2 1 1881 1885 0│\n",
       "│              │3 1    0    0 0│\n",
       "└──────────────┴───────────────┘\n",
       "</pre>"
      ]
     },
     "execution_count": 4,
     "metadata": {},
     "output_type": "execute_result"
    }
   ],
   "source": [
    "x←?10000\n",
    "⎕←'Number to find:',x\n",
    "]PERFORMANCE.RunTime x∊100000000⍴⍳x -details=all -repeat=100"
   ]
  },
  {
   "cell_type": "markdown",
   "id": "4d5b22e7",
   "metadata": {},
   "source": [
    "## Using `cmpx`\n",
    "\n",
    "I finally figured how to use cmpx with the `)copy` command"
   ]
  },
  {
   "cell_type": "code",
   "execution_count": 5,
   "id": "7cfaf133",
   "metadata": {},
   "outputs": [
    {
     "data": {
      "text/html": [
       "<pre class=\"language-APL\">/opt/mdyalog/18.2/64/unicode/ws/dfns.dws saved Thu Jan  5 15:10:38 2023\n",
       "</pre>"
      ]
     },
     "execution_count": 5,
     "metadata": {},
     "output_type": "execute_result"
    }
   ],
   "source": [
    ")copy dfns cmpx"
   ]
  },
  {
   "cell_type": "markdown",
   "id": "c77b7b40",
   "metadata": {},
   "source": [
    "x←5\n",
    "y←1 2 3 4 5 6"
   ]
  },
  {
   "cell_type": "code",
   "execution_count": 6,
   "id": "165fc6ff",
   "metadata": {},
   "outputs": [
    {
     "data": {
      "text/html": [
       "<pre class=\"language-APL\">z is: 3333\n",
       "</pre>"
      ]
     },
     "execution_count": 6,
     "metadata": {},
     "output_type": "execute_result"
    },
    {
     "data": {
      "text/html": [
       "<pre class=\"language-APL\">  x∊y            → 0.0E0  |       0%                                         \n",
       "* x∊100000000⍴⍳x → 1.7E¯2 | +217500% ⎕⎕⎕⎕⎕⎕⎕⎕⎕⎕⎕⎕⎕⎕⎕⎕⎕⎕⎕⎕⎕⎕⎕⎕⎕⎕⎕⎕⎕⎕⎕⎕⎕⎕⎕⎕⎕⎕⎕ \n",
       "* z∊100000000⍴⍳z → 1.7E¯2 | +223200% ⎕⎕⎕⎕⎕⎕⎕⎕⎕⎕⎕⎕⎕⎕⎕⎕⎕⎕⎕⎕⎕⎕⎕⎕⎕⎕⎕⎕⎕⎕⎕⎕⎕⎕⎕⎕⎕⎕⎕⎕\n",
       "</pre>"
      ]
     },
     "execution_count": 6,
     "metadata": {},
     "output_type": "execute_result"
    }
   ],
   "source": [
    "z←?10000\n",
    "⎕←'z is:',z\n",
    "cmpx 'x∊y' 'x∊100000000⍴⍳x' 'z∊100000000⍴⍳z'"
   ]
  },
  {
   "cell_type": "code",
   "execution_count": 7,
   "id": "9a4763dd",
   "metadata": {},
   "outputs": [
    {
     "data": {
      "text/html": [
       "<pre class=\"language-APL\">z is: 4658\n",
       "</pre>"
      ]
     },
     "execution_count": 7,
     "metadata": {},
     "output_type": "execute_result"
    },
    {
     "data": {
      "text/html": [
       "<pre class=\"language-APL\">  x∊y            → 7.8E¯6 |       0%                                         \n",
       "* x∊100000000⍴⍳x → 1.8E¯2 | +226700% ⎕⎕⎕⎕⎕⎕⎕⎕⎕⎕⎕⎕⎕⎕⎕⎕⎕⎕⎕⎕⎕⎕⎕⎕⎕⎕⎕⎕⎕⎕⎕⎕⎕⎕⎕⎕⎕⎕⎕⎕\n",
       "* z∊100000000⍴⍳z → 1.8E¯2 | +225600% ⎕⎕⎕⎕⎕⎕⎕⎕⎕⎕⎕⎕⎕⎕⎕⎕⎕⎕⎕⎕⎕⎕⎕⎕⎕⎕⎕⎕⎕⎕⎕⎕⎕⎕⎕⎕⎕⎕⎕⎕\n",
       "</pre>"
      ]
     },
     "execution_count": 7,
     "metadata": {},
     "output_type": "execute_result"
    }
   ],
   "source": [
    "z←?10000\n",
    "⎕←'z is:',z\n",
    "cmpx 'x∊y' 'x∊100000000⍴⍳x' 'z∊100000000⍴⍳z'"
   ]
  },
  {
   "cell_type": "code",
   "execution_count": 8,
   "id": "a20ce3cc",
   "metadata": {},
   "outputs": [
    {
     "data": {
      "text/html": [
       "<pre class=\"language-APL\">z is: 7066\n",
       "</pre>"
      ]
     },
     "execution_count": 8,
     "metadata": {},
     "output_type": "execute_result"
    },
    {
     "data": {
      "text/html": [
       "<pre class=\"language-APL\">  x∊y            → 0.0E0  |       0%                                         \n",
       "* x∊100000000⍴⍳x → 1.7E¯2 | +222700% ⎕⎕⎕⎕⎕⎕⎕⎕⎕⎕⎕⎕⎕⎕⎕⎕⎕⎕⎕⎕⎕⎕⎕⎕⎕⎕⎕⎕⎕⎕⎕⎕⎕⎕⎕⎕⎕⎕⎕ \n",
       "* z∊100000000⍴⍳z → 1.8E¯2 | +230900% ⎕⎕⎕⎕⎕⎕⎕⎕⎕⎕⎕⎕⎕⎕⎕⎕⎕⎕⎕⎕⎕⎕⎕⎕⎕⎕⎕⎕⎕⎕⎕⎕⎕⎕⎕⎕⎕⎕⎕⎕\n",
       "</pre>"
      ]
     },
     "execution_count": 8,
     "metadata": {},
     "output_type": "execute_result"
    }
   ],
   "source": [
    "z←?10000\n",
    "⎕←'z is:',z\n",
    "cmpx 'x∊y' 'x∊100000000⍴⍳x' 'z∊100000000⍴⍳z'"
   ]
  }
 ],
 "metadata": {
  "kernelspec": {
   "display_name": "Dyalog APL",
   "language": "apl",
   "name": "dyalog-kernel"
  },
  "language_info": {
   "file_extension": ".apl",
   "mimetype": "text/apl",
   "name": "APL"
  }
 },
 "nbformat": 4,
 "nbformat_minor": 5
}
