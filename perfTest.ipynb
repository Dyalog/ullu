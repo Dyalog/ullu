{
 "cells": [
  {
   "cell_type": "markdown",
   "id": "d7137cc1",
   "metadata": {},
   "source": [
    "# Performance tests"
   ]
  },
  {
   "cell_type": "markdown",
   "id": "0a246e33",
   "metadata": {},
   "source": [
    "I am using the `]PERFORMANCE.RunTime` functionality to calculate the execution time of the membership function on various examples\n",
    "\n",
    "```\n",
    "───────────────────────────────────────────────────────────────────────────────                    \n",
    "                                                                                                   \n",
    "]PERFORMANCE.RunTime                                                                               \n",
    "                                                                                                   \n",
    "Report execution time of one or more expressions                                                   \n",
    "    ]RunTime [<expression> [<expression> ... [-compare]]] [-details[=all|non|ai]] [-repeat=<limit>]\n",
    "                                                                                                   \n",
    "Argument is a series of expressions to run                                                         \n",
    "                                                                                                   \n",
    "-compare  compare the expressions using the first one as base line.                                \n",
    "-details[=all|non|ai]  specify which details to include. It can be one of the following:           \n",
    "    all   (default) ⎕AI and ⎕MONITOR CPU and elapsed numbers with test function results            \n",
    "    none  only numeric results in millisecs as a matrix of Nx2                                     \n",
    "    ai    numeric results of ⎕MONITOR and ⎕AI as a matrix of Nx4                                   \n",
    "                                                                                                   \n",
    "-repeat=<limit>  repeats each expression until <limit> is reached. Valid limits are:               \n",
    "    <i>      repeat each expression <i> times                                                      \n",
    "    <t>s     repeat until at least <t> seconds have passed                                         \n",
    "    <t>m     repeat until at least <t> milliseconds have passed                                    \n",
    "    <i>⌈<t>  repeat until both limits have been reached                                            \n",
    "    <i>⌊<t>  repeat until at least one limit has been reached                                      \n",
    "                                                                                                   \n",
    "]RunTime -??? ⍝ for examples    \n",
    "```"
   ]
  },
  {
   "cell_type": "markdown",
   "id": "c1ea235f",
   "metadata": {},
   "source": [
    "Starting with something basic, but it is too small to take some time."
   ]
  },
  {
   "cell_type": "code",
   "execution_count": 1,
   "id": "31d7e77e",
   "metadata": {
    "vscode": {
     "languageId": "apl"
    }
   },
   "outputs": [
    {
     "data": {
      "text/html": [
       "<pre class=\"language-APL\">\n",
       "* Benchmarking \"x∊y\"\n",
       "┌──────────┬────┐\n",
       "│          │(ms)│\n",
       "├──────────┼────┤\n",
       "│CPU (avg):│0   │\n",
       "├──────────┼────┤\n",
       "│Elapsed:  │0   │\n",
       "└──────────┴────┘\n",
       "</pre>"
      ]
     },
     "execution_count": 1,
     "metadata": {},
     "output_type": "execute_result"
    }
   ],
   "source": [
    "x←5\n",
    "y←1 2 3 4 5 6\n",
    "]PERFORMANCE.RunTime x∊y"
   ]
  },
  {
   "cell_type": "markdown",
   "id": "a716f81d",
   "metadata": {
    "vscode": {
     "languageId": "apl"
    }
   },
   "source": [
    " I am generating a random number and testing on the max possible size without a `WS full` error"
   ]
  },
  {
   "cell_type": "code",
   "execution_count": 2,
   "id": "78467a8c",
   "metadata": {
    "vscode": {
     "languageId": "apl"
    }
   },
   "outputs": [
    {
     "data": {
      "text/html": [
       "<pre class=\"language-APL\">Number to find: 6564\n",
       "</pre>"
      ]
     },
     "execution_count": 2,
     "metadata": {},
     "output_type": "execute_result"
    },
    {
     "data": {
      "text/html": [
       "<pre class=\"language-APL\">\n",
       "* Benchmarking \"x∊100000000⍴⍳x\", repeat=100\n",
       "Test run took 70 71 msecs\n",
       "┌──────────┬─────┬─────┬────────┐\n",
       "│          │⎕AI  │(ms) │[2]→line│\n",
       "├──────────┼─────┼─────┼────────┤\n",
       "│CPU (avg):│17.69│17.69│0       │\n",
       "├──────────┼─────┼─────┼────────┤\n",
       "│Elapsed:  │17.74│17.74│0       │\n",
       "└──────────┴─────┴─────┴────────┘\n",
       "Effective repeat=100, # expression on repeat line was 100\n",
       "┌──────────────┬───────────────┐\n",
       "│⎕MONITOR data:│2 1 1769 1774 0│\n",
       "│              │3 1    0    0 0│\n",
       "└──────────────┴───────────────┘\n",
       "</pre>"
      ]
     },
     "execution_count": 2,
     "metadata": {},
     "output_type": "execute_result"
    }
   ],
   "source": [
    "x←?10000\n",
    "⎕←'Number to find:',x\n",
    "]PERFORMANCE.RunTime x∊100000000⍴⍳x -details=all -repeat=100"
   ]
  },
  {
   "cell_type": "code",
   "execution_count": 3,
   "id": "c3eb4bd0",
   "metadata": {
    "vscode": {
     "languageId": "apl"
    }
   },
   "outputs": [
    {
     "data": {
      "text/html": [
       "<pre class=\"language-APL\">Number to find: 2787\n",
       "</pre>"
      ]
     },
     "execution_count": 3,
     "metadata": {},
     "output_type": "execute_result"
    },
    {
     "data": {
      "text/html": [
       "<pre class=\"language-APL\">\n",
       "* Benchmarking \"x∊100000000⍴⍳x\", repeat=100\n",
       "Test run took 70 70 msecs\n",
       "┌──────────┬─────┬─────┬────────┐\n",
       "│          │⎕AI  │(ms) │[2]→line│\n",
       "├──────────┼─────┼─────┼────────┤\n",
       "│CPU (avg):│18.74│18.74│0       │\n",
       "├──────────┼─────┼─────┼────────┤\n",
       "│Elapsed:  │18.83│18.83│0       │\n",
       "└──────────┴─────┴─────┴────────┘\n",
       "Effective repeat=100, # expression on repeat line was 100\n",
       "┌──────────────┬───────────────┐\n",
       "│⎕MONITOR data:│2 1 1874 1883 0│\n",
       "│              │3 1    0    0 0│\n",
       "└──────────────┴───────────────┘\n",
       "</pre>"
      ]
     },
     "execution_count": 3,
     "metadata": {},
     "output_type": "execute_result"
    }
   ],
   "source": [
    "x←?10000\n",
    "⎕←'Number to find:',x\n",
    "]PERFORMANCE.RunTime x∊100000000⍴⍳x -details=all -repeat=100"
   ]
  },
  {
   "cell_type": "code",
   "execution_count": 4,
   "id": "43d9d984",
   "metadata": {
    "vscode": {
     "languageId": "apl"
    }
   },
   "outputs": [
    {
     "data": {
      "text/html": [
       "<pre class=\"language-APL\">Number to find: 1018\n",
       "</pre>"
      ]
     },
     "execution_count": 4,
     "metadata": {},
     "output_type": "execute_result"
    },
    {
     "data": {
      "text/html": [
       "<pre class=\"language-APL\">\n",
       "* Benchmarking \"x∊100000000⍴⍳x\", repeat=100\n",
       "Test run took 66 67 msecs\n",
       "┌──────────┬─────┬─────┬────────┐\n",
       "│          │⎕AI  │(ms) │[2]→line│\n",
       "├──────────┼─────┼─────┼────────┤\n",
       "│CPU (avg):│18.1 │18.1 │0       │\n",
       "├──────────┼─────┼─────┼────────┤\n",
       "│Elapsed:  │18.17│18.17│0       │\n",
       "└──────────┴─────┴─────┴────────┘\n",
       "Effective repeat=100, # expression on repeat line was 100\n",
       "┌──────────────┬───────────────┐\n",
       "│⎕MONITOR data:│2 1 1810 1817 0│\n",
       "│              │3 1    0    0 0│\n",
       "└──────────────┴───────────────┘\n",
       "</pre>"
      ]
     },
     "execution_count": 4,
     "metadata": {},
     "output_type": "execute_result"
    }
   ],
   "source": [
    "x←?10000\n",
    "⎕←'Number to find:',x\n",
    "]PERFORMANCE.RunTime x∊100000000⍴⍳x -details=all -repeat=100"
   ]
  }
 ],
 "metadata": {
  "kernelspec": {
   "display_name": "Dyalog APL",
   "language": "apl",
   "name": "dyalog-kernel"
  },
  "language_info": {
   "file_extension": ".apl",
   "mimetype": "text/apl",
   "name": "APL"
  }
 },
 "nbformat": 4,
 "nbformat_minor": 5
}
