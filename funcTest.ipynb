{
 "cells": [
  {
   "cell_type": "markdown",
   "id": "834345e7",
   "metadata": {},
   "source": [
    "# Functionality testing"
   ]
  },
  {
   "cell_type": "markdown",
   "id": "011c3bf1",
   "metadata": {},
   "source": [
    "The plan is to make use of the test format provided in the book Learning APL by @zpqz in chapter \"testing\".\n",
    "\n",
    "The chapter talks about two ways of testing: \n",
    "- Unit tests\n",
    "- Data-driven testing\n",
    "\n",
    "Other testing formats/frameworks that I considered were:\n",
    "- https://github.com/Gianfrancoalongi/APLUnit\n",
    "- https://github.com/exercism/gnu-apl/blob/main/test.apl"
   ]
  },
  {
   "cell_type": "code",
   "execution_count": 1,
   "id": "f559ddf2",
   "metadata": {
    "vscode": {
     "languageId": "apl"
    }
   },
   "outputs": [],
   "source": [
    ":Namespace unittest\n",
    "    ⎕IO ← 0\n",
    "    run←{\n",
    "        tests ← 'test_.+'⎕S'&'⎕NL ¯3\n",
    "        0=≢tests: 'no tests found'\n",
    "        ↑{⍺,('.'/⍨30-≢⍺),⍵⊃'[FAIL]' '[OK]'}⌿↑tests (⍎¨tests,¨⊂' ⍬')\n",
    "    }\n",
    ":EndNamespace"
   ]
  },
  {
   "cell_type": "markdown",
   "id": "dc0183ac",
   "metadata": {},
   "source": [
    "### Membership\tR←X∊Y\n",
    "\n",
    "Y may be any array.  X may be any array.  R is Boolean. An element of R is 1 if the corresponding element of X can be found in Y.\n",
    "\n",
    "An element of X is considered identical to an element in Y if X≡Y returns 1 for those elements.\n",
    "\n",
    "⎕CT and ⎕DCT are implicit arguments of Membership.\n",
    "\n",
    "Examples\n",
    "      'THIS NOUN' ∊ 'THAT WORD'\n",
    "1 1 0 0 1 0 1 0 0\n",
    " \n",
    "      'CAT' 'DOG' 'MOUSE' ∊ 'CAT' 'FOX' 'DOG' 'LLAMA'\n",
    "1 1 0"
   ]
  },
  {
   "cell_type": "code",
   "execution_count": 2,
   "id": "265f0aa2",
   "metadata": {
    "vscode": {
     "languageId": "apl"
    }
   },
   "outputs": [],
   "source": [
    "unittest.test_membershipSingle01←{1 ≡ 2 ∊ 1 2 3 4}\n",
    "unittest.test_membershipMultiple01←{1 1 1 0 ≡ 1 2 3 5 ∊ 1 2 3 4}\n",
    "unittest.test_membershipMultiple02←{1 0 0 0≡1 2 3 4 ∊ 1}\n",
    "unittest.test_membershipEg01←{1 1 0 0 1 0 1 0 0 ≡ 'THIS NOUN' ∊ 'THAT WORD'}\n",
    "unittest.test_membershipEg2←{1 1 0 ≡ 'CAT' 'DOG' 'MOUSE' ∊ 'CAT' 'FOX' 'DOG' 'LLAMA'}\n",
    "unittest.test_membershipLarge01←{1≡ 5 ∊ 100000⍴⍳10}\n",
    "unittest.test_membershipLarge02←{1≡100∊100000000⍴⍳100}"
   ]
  },
  {
   "cell_type": "markdown",
   "id": "3e01537c",
   "metadata": {},
   "source": [
    "To run all the tests:"
   ]
  },
  {
   "cell_type": "code",
   "execution_count": 3,
   "id": "8ba43b44",
   "metadata": {
    "scrolled": true,
    "vscode": {
     "languageId": "apl"
    }
   },
   "outputs": [
    {
     "data": {
      "text/html": [
       "<pre class=\"language-APL\">test_membershipEg01...........[OK]  \n",
       "test_membershipEg2............[OK]  \n",
       "test_membershipLarge01........[OK]  \n",
       "test_membershipLarge02........[FAIL]\n",
       "test_membershipMultiple01.....[OK]  \n",
       "test_membershipMultiple02.....[OK]  \n",
       "test_membershipSingle01.......[OK]  \n",
       "</pre>"
      ]
     },
     "execution_count": 3,
     "metadata": {},
     "output_type": "execute_result"
    }
   ],
   "source": [
    "unittest.run⍬"
   ]
  },
  {
   "cell_type": "markdown",
   "id": "40a9bba2",
   "metadata": {},
   "source": [
    "To run a single test:"
   ]
  },
  {
   "cell_type": "code",
   "execution_count": 4,
   "id": "1202693b",
   "metadata": {
    "vscode": {
     "languageId": "apl"
    }
   },
   "outputs": [
    {
     "data": {
      "text/html": [
       "<pre class=\"language-APL\">1\n",
       "</pre>"
      ]
     },
     "execution_count": 4,
     "metadata": {},
     "output_type": "execute_result"
    }
   ],
   "source": [
    "unittest.test_membershipLarge01⍬"
   ]
  },
  {
   "cell_type": "markdown",
   "id": "5026837e",
   "metadata": {},
   "source": [
    "### Note:\n",
    "\n",
    "I am unable figure out why this test_membershipLarge02 is failing, It gives out a 1 when run separately(even with the 'execute')"
   ]
  },
  {
   "cell_type": "code",
   "execution_count": 5,
   "id": "3724b211",
   "metadata": {
    "scrolled": true,
    "vscode": {
     "languageId": "apl"
    }
   },
   "outputs": [
    {
     "data": {
      "text/html": [
       "<pre class=\"language-APL\">0\n",
       "</pre>"
      ]
     },
     "execution_count": 5,
     "metadata": {},
     "output_type": "execute_result"
    },
    {
     "data": {
      "text/html": [
       "<pre class=\"language-APL\">1\n",
       "</pre>"
      ]
     },
     "execution_count": 5,
     "metadata": {},
     "output_type": "execute_result"
    },
    {
     "data": {
      "text/html": [
       "<pre class=\"language-APL\">1\n",
       "</pre>"
      ]
     },
     "execution_count": 5,
     "metadata": {},
     "output_type": "execute_result"
    }
   ],
   "source": [
    "unittest.test_membershipLarge02⍬\n",
    "1≡100∊100000000⍴⍳100\n",
    "⍎'1≡100∊100000000⍴⍳100'"
   ]
  }
 ],
 "metadata": {
  "kernelspec": {
   "display_name": "Dyalog APL",
   "language": "apl",
   "name": "dyalog-kernel"
  },
  "language_info": {
   "file_extension": ".apl",
   "mimetype": "text/apl",
   "name": "APL"
  }
 },
 "nbformat": 4,
 "nbformat_minor": 5
}
